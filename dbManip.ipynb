{
 "cells": [
  {
   "cell_type": "code",
   "execution_count": 1,
   "id": "06f3d920",
   "metadata": {},
   "outputs": [],
   "source": [
    "import pandas as pd, numpy as np\n",
    "import matplotlib.pyplot as plt\n",
    "import os, glob"
   ]
  },
  {
   "cell_type": "code",
   "execution_count": 2,
   "id": "e537f7dc",
   "metadata": {},
   "outputs": [
    {
     "name": "stdout",
     "output_type": "stream",
     "text": [
      "/Users/Theo/dev/projetMemoire\n"
     ]
    }
   ],
   "source": [
    "cd ~/dev/projetMemoire/"
   ]
  },
  {
   "cell_type": "code",
   "execution_count": 3,
   "id": "cea7ab68",
   "metadata": {},
   "outputs": [],
   "source": [
    "db = pd.read_csv(\"mortsduRif.csv\", sep= \"\\t\", engine='python')"
   ]
  },
  {
   "cell_type": "code",
   "execution_count": 4,
   "id": "a10cac44",
   "metadata": {},
   "outputs": [
    {
     "data": {
      "text/plain": [
       "Index(['Unnamed: 0', 'id_conflit_intitule', 'id_sous_conflit_intitule',\n",
       "       'id_famille_cote_intitule', 'sous_serie', 'serie', 'article', 'nom',\n",
       "       'prenom', 'nom_autre', 'naissance_jour_mois_annee',\n",
       "       'id_naissance_lieu_intitule', 'id_naissance_departement_intitule',\n",
       "       'id_naissance_pays_intitule', 'id_statut_intitule',\n",
       "       'id_mention_intitule', 'classe', 'recrutement_matricule',\n",
       "       'id_recrutement_bureau_intitule', 'id_grade_intitule',\n",
       "       'id_unite_intitule', 'id_bataillon_intitule', 'detail_unite',\n",
       "       'id_profession_intitule', 'deces_jour_mois_annee',\n",
       "       'id_deces_lieu_intitule', 'id_deces_departement_intitule',\n",
       "       'id_deces_pays_intitule', 'id_operation_intitule',\n",
       "       'id_transcription_etablissement_lieu_intitule',\n",
       "       'id_transcription_etablissement_departement_intitule',\n",
       "       'id_transcription_etablissement_pays_intitule', 'sources',\n",
       "       'deportation', 'decoration_posthume', 'rehabilitation',\n",
       "       'lien_ark_fiche', 'corps_retrouve', 'disparition_jour_mois_annee',\n",
       "       'jdd_jour_mois_annee'],\n",
       "      dtype='object')"
      ]
     },
     "execution_count": 4,
     "metadata": {},
     "output_type": "execute_result"
    }
   ],
   "source": [
    "db.columns"
   ]
  },
  {
   "cell_type": "code",
   "execution_count": 5,
   "id": "79d20145",
   "metadata": {},
   "outputs": [],
   "source": [
    "db=db.drop('Unnamed: 0',axis=1)"
   ]
  },
  {
   "cell_type": "code",
   "execution_count": 17,
   "id": "d7543c18",
   "metadata": {},
   "outputs": [
    {
     "data": {
      "text/plain": [
       "1000   NaN\n",
       "1001   NaN\n",
       "1002   NaN\n",
       "1003   NaN\n",
       "1004   NaN\n",
       "1005   NaN\n",
       "1006   NaN\n",
       "1007   NaN\n",
       "1008   NaN\n",
       "1009   NaN\n",
       "1010   NaN\n",
       "1011   NaN\n",
       "1012   NaN\n",
       "1013   NaN\n",
       "1014   NaN\n",
       "1015   NaN\n",
       "1016   NaN\n",
       "1017   NaN\n",
       "1018   NaN\n",
       "1019   NaN\n",
       "1020   NaN\n",
       "1021   NaN\n",
       "1022   NaN\n",
       "1023   NaN\n",
       "1024   NaN\n",
       "1025   NaN\n",
       "1026   NaN\n",
       "1027   NaN\n",
       "1028   NaN\n",
       "1029   NaN\n",
       "Name: recrutement_matricule, dtype: float64"
      ]
     },
     "execution_count": 17,
     "metadata": {},
     "output_type": "execute_result"
    }
   ],
   "source": [
    "db.recrutement_matricule[1000:1030]"
   ]
  },
  {
   "cell_type": "code",
   "execution_count": null,
   "id": "4305ad32",
   "metadata": {},
   "outputs": [],
   "source": []
  }
 ],
 "metadata": {
  "kernelspec": {
   "display_name": "Python 3 (ipykernel)",
   "language": "python",
   "name": "python3"
  },
  "language_info": {
   "codemirror_mode": {
    "name": "ipython",
    "version": 3
   },
   "file_extension": ".py",
   "mimetype": "text/x-python",
   "name": "python",
   "nbconvert_exporter": "python",
   "pygments_lexer": "ipython3",
   "version": "3.8.12"
  }
 },
 "nbformat": 4,
 "nbformat_minor": 5
}
